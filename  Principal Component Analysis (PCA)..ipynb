{
 "cells": [
  {
   "cell_type": "code",
   "execution_count": 12,
   "id": "250ac69a",
   "metadata": {},
   "outputs": [],
   "source": [
    "import pandas as pd\n",
    "from sklearn.preprocessing import StandardScaler\n",
    "from sklearn.decomposition import PCA\n",
    "from sklearn.cluster import KMeans\n",
    "import hvplot.pandas"
   ]
  },
  {
   "cell_type": "code",
   "execution_count": 13,
   "id": "56b45f4b",
   "metadata": {},
   "outputs": [
    {
     "data": {
      "text/html": [
       "<div>\n",
       "<style scoped>\n",
       "    .dataframe tbody tr th:only-of-type {\n",
       "        vertical-align: middle;\n",
       "    }\n",
       "\n",
       "    .dataframe tbody tr th {\n",
       "        vertical-align: top;\n",
       "    }\n",
       "\n",
       "    .dataframe thead th {\n",
       "        text-align: right;\n",
       "    }\n",
       "</style>\n",
       "<table border=\"1\" class=\"dataframe\">\n",
       "  <thead>\n",
       "    <tr style=\"text-align: right;\">\n",
       "      <th></th>\n",
       "      <th>sepal_length</th>\n",
       "      <th>sepal_width</th>\n",
       "      <th>petal_length</th>\n",
       "      <th>petal_width</th>\n",
       "    </tr>\n",
       "  </thead>\n",
       "  <tbody>\n",
       "    <tr>\n",
       "      <th>0</th>\n",
       "      <td>5.1</td>\n",
       "      <td>3.5</td>\n",
       "      <td>1.4</td>\n",
       "      <td>0.2</td>\n",
       "    </tr>\n",
       "    <tr>\n",
       "      <th>1</th>\n",
       "      <td>4.9</td>\n",
       "      <td>3.0</td>\n",
       "      <td>1.4</td>\n",
       "      <td>0.2</td>\n",
       "    </tr>\n",
       "    <tr>\n",
       "      <th>2</th>\n",
       "      <td>4.7</td>\n",
       "      <td>3.2</td>\n",
       "      <td>1.3</td>\n",
       "      <td>0.2</td>\n",
       "    </tr>\n",
       "    <tr>\n",
       "      <th>3</th>\n",
       "      <td>4.6</td>\n",
       "      <td>3.1</td>\n",
       "      <td>1.5</td>\n",
       "      <td>0.2</td>\n",
       "    </tr>\n",
       "    <tr>\n",
       "      <th>4</th>\n",
       "      <td>5.0</td>\n",
       "      <td>3.6</td>\n",
       "      <td>1.4</td>\n",
       "      <td>0.2</td>\n",
       "    </tr>\n",
       "  </tbody>\n",
       "</table>\n",
       "</div>"
      ],
      "text/plain": [
       "   sepal_length  sepal_width  petal_length  petal_width\n",
       "0           5.1          3.5           1.4          0.2\n",
       "1           4.9          3.0           1.4          0.2\n",
       "2           4.7          3.2           1.3          0.2\n",
       "3           4.6          3.1           1.5          0.2\n",
       "4           5.0          3.6           1.4          0.2"
      ]
     },
     "execution_count": 13,
     "metadata": {},
     "output_type": "execute_result"
    }
   ],
   "source": [
    "file_path = \"./resources/new_iris_data.csv\"\n",
    "df_iris = pd.read_csv(file_path)\n",
    "df_iris.head()"
   ]
  },
  {
   "cell_type": "code",
   "execution_count": 14,
   "id": "73518705",
   "metadata": {},
   "outputs": [
    {
     "name": "stdout",
     "output_type": "stream",
     "text": [
      "[[-0.90068117  1.03205722 -1.3412724  -1.31297673]\n",
      " [-1.14301691 -0.1249576  -1.3412724  -1.31297673]\n",
      " [-1.38535265  0.33784833 -1.39813811 -1.31297673]\n",
      " [-1.50652052  0.10644536 -1.2844067  -1.31297673]\n",
      " [-1.02184904  1.26346019 -1.3412724  -1.31297673]]\n"
     ]
    }
   ],
   "source": [
    "iris_scaled = StandardScaler().fit_transform(df_iris)\n",
    "print(iris_scaled[0:5])"
   ]
  },
  {
   "cell_type": "code",
   "execution_count": 15,
   "id": "253e8d82",
   "metadata": {},
   "outputs": [],
   "source": [
    "# Initialize PCA model\n",
    "pca = PCA(n_components=2)"
   ]
  },
  {
   "cell_type": "code",
   "execution_count": 16,
   "id": "fff10c43",
   "metadata": {},
   "outputs": [],
   "source": [
    "# Get two principal components for the iris data.\n",
    "iris_pca = pca.fit_transform(iris_scaled)"
   ]
  },
  {
   "cell_type": "code",
   "execution_count": 17,
   "id": "bd6bc77c",
   "metadata": {},
   "outputs": [
    {
     "data": {
      "text/html": [
       "<div>\n",
       "<style scoped>\n",
       "    .dataframe tbody tr th:only-of-type {\n",
       "        vertical-align: middle;\n",
       "    }\n",
       "\n",
       "    .dataframe tbody tr th {\n",
       "        vertical-align: top;\n",
       "    }\n",
       "\n",
       "    .dataframe thead th {\n",
       "        text-align: right;\n",
       "    }\n",
       "</style>\n",
       "<table border=\"1\" class=\"dataframe\">\n",
       "  <thead>\n",
       "    <tr style=\"text-align: right;\">\n",
       "      <th></th>\n",
       "      <th>principal component 1</th>\n",
       "      <th>principal component 2</th>\n",
       "    </tr>\n",
       "  </thead>\n",
       "  <tbody>\n",
       "    <tr>\n",
       "      <th>0</th>\n",
       "      <td>-2.264542</td>\n",
       "      <td>0.505704</td>\n",
       "    </tr>\n",
       "    <tr>\n",
       "      <th>1</th>\n",
       "      <td>-2.086426</td>\n",
       "      <td>-0.655405</td>\n",
       "    </tr>\n",
       "    <tr>\n",
       "      <th>2</th>\n",
       "      <td>-2.367950</td>\n",
       "      <td>-0.318477</td>\n",
       "    </tr>\n",
       "    <tr>\n",
       "      <th>3</th>\n",
       "      <td>-2.304197</td>\n",
       "      <td>-0.575368</td>\n",
       "    </tr>\n",
       "    <tr>\n",
       "      <th>4</th>\n",
       "      <td>-2.388777</td>\n",
       "      <td>0.674767</td>\n",
       "    </tr>\n",
       "  </tbody>\n",
       "</table>\n",
       "</div>"
      ],
      "text/plain": [
       "   principal component 1  principal component 2\n",
       "0              -2.264542               0.505704\n",
       "1              -2.086426              -0.655405\n",
       "2              -2.367950              -0.318477\n",
       "3              -2.304197              -0.575368\n",
       "4              -2.388777               0.674767"
      ]
     },
     "execution_count": 17,
     "metadata": {},
     "output_type": "execute_result"
    }
   ],
   "source": [
    "df_iris_pca = pd.DataFrame(\n",
    "    data=iris_pca, columns=[\"principal component 1\", \"principal component 2\"])\n",
    "df_iris_pca.head()"
   ]
  },
  {
   "cell_type": "code",
   "execution_count": 18,
   "id": "45ad81a5",
   "metadata": {},
   "outputs": [
    {
     "data": {
      "text/plain": [
       "array([0.72770452, 0.23030523])"
      ]
     },
     "execution_count": 18,
     "metadata": {},
     "output_type": "execute_result"
    }
   ],
   "source": [
    "pca.explained_variance_ratio_"
   ]
  },
  {
   "cell_type": "code",
   "execution_count": 19,
   "id": "3eb81d4d",
   "metadata": {},
   "outputs": [
    {
     "name": "stderr",
     "output_type": "stream",
     "text": [
      "C:\\Users\\Zoeyx\\anaconda3\\envs\\PythonData\\lib\\site-packages\\sklearn\\cluster\\_kmeans.py:1037: UserWarning: KMeans is known to have a memory leak on Windows with MKL, when there are less chunks than available threads. You can avoid it by setting the environment variable OMP_NUM_THREADS=1.\n",
      "  \"KMeans is known to have a memory leak on Windows \"\n"
     ]
    },
    {
     "data": {
      "application/vnd.holoviews_exec.v0+json": "",
      "text/html": [
       "<div id='1428'>\n",
       "\n",
       "\n",
       "\n",
       "\n",
       "\n",
       "  <div class=\"bk-root\" id=\"5ddba8c3-2815-43a8-8f1b-570e5d3e74a5\" data-root-id=\"1428\"></div>\n",
       "</div>\n",
       "<script type=\"application/javascript\">(function(root) {\n",
       "  function embed_document(root) {\n",
       "    var docs_json = {\"e2f47d6f-fd14-4cf7-82a1-9310edb3eb51\":{\"defs\":[{\"extends\":null,\"module\":null,\"name\":\"ReactiveHTML1\",\"overrides\":[],\"properties\":[]},{\"extends\":null,\"module\":null,\"name\":\"FlexBox1\",\"overrides\":[],\"properties\":[{\"default\":\"flex-start\",\"kind\":null,\"name\":\"align_content\"},{\"default\":\"flex-start\",\"kind\":null,\"name\":\"align_items\"},{\"default\":\"row\",\"kind\":null,\"name\":\"flex_direction\"},{\"default\":\"wrap\",\"kind\":null,\"name\":\"flex_wrap\"},{\"default\":\"flex-start\",\"kind\":null,\"name\":\"justify_content\"}]},{\"extends\":null,\"module\":null,\"name\":\"GridStack1\",\"overrides\":[],\"properties\":[{\"default\":\"warn\",\"kind\":null,\"name\":\"mode\"},{\"default\":null,\"kind\":null,\"name\":\"ncols\"},{\"default\":null,\"kind\":null,\"name\":\"nrows\"},{\"default\":true,\"kind\":null,\"name\":\"allow_resize\"},{\"default\":true,\"kind\":null,\"name\":\"allow_drag\"},{\"default\":[],\"kind\":null,\"name\":\"state\"}]},{\"extends\":null,\"module\":null,\"name\":\"click1\",\"overrides\":[],\"properties\":[{\"default\":\"\",\"kind\":null,\"name\":\"terminal_output\"},{\"default\":\"\",\"kind\":null,\"name\":\"debug_name\"},{\"default\":0,\"kind\":null,\"name\":\"clears\"}]},{\"extends\":null,\"module\":null,\"name\":\"TemplateActions1\",\"overrides\":[],\"properties\":[{\"default\":0,\"kind\":null,\"name\":\"open_modal\"},{\"default\":0,\"kind\":null,\"name\":\"close_modal\"}]},{\"extends\":null,\"module\":null,\"name\":\"MaterialTemplateActions1\",\"overrides\":[],\"properties\":[{\"default\":0,\"kind\":null,\"name\":\"open_modal\"},{\"default\":0,\"kind\":null,\"name\":\"close_modal\"}]}],\"roots\":{\"references\":[{\"attributes\":{\"axis\":{\"id\":\"1446\"},\"coordinates\":null,\"dimension\":1,\"grid_line_color\":null,\"group\":null,\"ticker\":null},\"id\":\"1449\",\"type\":\"Grid\"},{\"attributes\":{\"line_color\":\"#30a2da\",\"line_width\":2,\"x\":{\"field\":\"k\"},\"y\":{\"field\":\"inertia\"}},\"id\":\"1466\",\"type\":\"Line\"},{\"attributes\":{\"below\":[{\"id\":\"1442\"}],\"center\":[{\"id\":\"1445\"},{\"id\":\"1449\"}],\"height\":300,\"left\":[{\"id\":\"1446\"}],\"margin\":[5,5,5,5],\"min_border_bottom\":10,\"min_border_left\":10,\"min_border_right\":10,\"min_border_top\":10,\"renderers\":[{\"id\":\"1469\"}],\"sizing_mode\":\"fixed\",\"title\":{\"id\":\"1434\"},\"toolbar\":{\"id\":\"1456\"},\"width\":700,\"x_range\":{\"id\":\"1430\"},\"x_scale\":{\"id\":\"1438\"},\"y_range\":{\"id\":\"1431\"},\"y_scale\":{\"id\":\"1440\"}},\"id\":\"1433\",\"subtype\":\"Figure\",\"type\":\"Plot\"},{\"attributes\":{\"margin\":[5,5,5,5],\"name\":\"HSpacer02436\",\"sizing_mode\":\"stretch_width\"},\"id\":\"1429\",\"type\":\"Spacer\"},{\"attributes\":{\"ticks\":[1,2,3,4,5,6,7,8,9,10]},\"id\":\"1472\",\"type\":\"FixedTicker\"},{\"attributes\":{\"line_alpha\":0.1,\"line_color\":\"#30a2da\",\"line_width\":2,\"x\":{\"field\":\"k\"},\"y\":{\"field\":\"inertia\"}},\"id\":\"1467\",\"type\":\"Line\"},{\"attributes\":{},\"id\":\"1475\",\"type\":\"AllLabels\"},{\"attributes\":{\"line_alpha\":0.2,\"line_color\":\"#30a2da\",\"line_width\":2,\"x\":{\"field\":\"k\"},\"y\":{\"field\":\"inertia\"}},\"id\":\"1468\",\"type\":\"Line\"},{\"attributes\":{\"source\":{\"id\":\"1463\"}},\"id\":\"1470\",\"type\":\"CDSView\"},{\"attributes\":{\"callback\":null,\"renderers\":[{\"id\":\"1469\"}],\"tags\":[\"hv_created\"],\"tooltips\":[[\"k\",\"@{k}\"],[\"inertia\",\"@{inertia}\"]]},\"id\":\"1432\",\"type\":\"HoverTool\"},{\"attributes\":{},\"id\":\"1479\",\"type\":\"BasicTickFormatter\"},{\"attributes\":{\"tools\":[{\"id\":\"1432\"},{\"id\":\"1450\"},{\"id\":\"1451\"},{\"id\":\"1452\"},{\"id\":\"1453\"},{\"id\":\"1454\"}]},\"id\":\"1456\",\"type\":\"Toolbar\"},{\"attributes\":{\"bottom_units\":\"screen\",\"coordinates\":null,\"fill_alpha\":0.5,\"fill_color\":\"lightgrey\",\"group\":null,\"left_units\":\"screen\",\"level\":\"overlay\",\"line_alpha\":1.0,\"line_color\":\"black\",\"line_dash\":[4,4],\"line_width\":2,\"right_units\":\"screen\",\"syncable\":false,\"top_units\":\"screen\"},\"id\":\"1455\",\"type\":\"BoxAnnotation\"},{\"attributes\":{\"end\":10.0,\"reset_end\":10.0,\"reset_start\":1.0,\"start\":1.0,\"tags\":[[[\"k\",\"k\",null]]]},\"id\":\"1430\",\"type\":\"Range1d\"},{\"attributes\":{},\"id\":\"1450\",\"type\":\"SaveTool\"},{\"attributes\":{},\"id\":\"1451\",\"type\":\"PanTool\"},{\"attributes\":{},\"id\":\"1454\",\"type\":\"ResetTool\"},{\"attributes\":{},\"id\":\"1452\",\"type\":\"WheelZoomTool\"},{\"attributes\":{\"coordinates\":null,\"data_source\":{\"id\":\"1463\"},\"glyph\":{\"id\":\"1466\"},\"group\":null,\"hover_glyph\":null,\"muted_glyph\":{\"id\":\"1468\"},\"nonselection_glyph\":{\"id\":\"1467\"},\"selection_glyph\":{\"id\":\"1471\"},\"view\":{\"id\":\"1470\"}},\"id\":\"1469\",\"type\":\"GlyphRenderer\"},{\"attributes\":{\"overlay\":{\"id\":\"1455\"}},\"id\":\"1453\",\"type\":\"BoxZoomTool\"},{\"attributes\":{},\"id\":\"1464\",\"type\":\"Selection\"},{\"attributes\":{},\"id\":\"1487\",\"type\":\"UnionRenderers\"},{\"attributes\":{},\"id\":\"1447\",\"type\":\"BasicTicker\"},{\"attributes\":{\"coordinates\":null,\"group\":null,\"text\":\"Elbow Curve\",\"text_color\":\"black\",\"text_font_size\":\"12pt\"},\"id\":\"1434\",\"type\":\"Title\"},{\"attributes\":{},\"id\":\"1438\",\"type\":\"LinearScale\"},{\"attributes\":{\"line_color\":\"#30a2da\",\"line_width\":2,\"x\":{\"field\":\"k\"},\"y\":{\"field\":\"inertia\"}},\"id\":\"1471\",\"type\":\"Line\"},{\"attributes\":{\"axis\":{\"id\":\"1442\"},\"coordinates\":null,\"grid_line_color\":null,\"group\":null,\"ticker\":null},\"id\":\"1445\",\"type\":\"Grid\"},{\"attributes\":{\"children\":[{\"id\":\"1429\"},{\"id\":\"1433\"},{\"id\":\"1499\"}],\"margin\":[0,0,0,0],\"name\":\"Row02432\",\"tags\":[\"embedded\"]},\"id\":\"1428\",\"type\":\"Row\"},{\"attributes\":{},\"id\":\"1440\",\"type\":\"LinearScale\"},{\"attributes\":{\"axis_label\":\"inertia\",\"coordinates\":null,\"formatter\":{\"id\":\"1479\"},\"group\":null,\"major_label_policy\":{\"id\":\"1480\"},\"ticker\":{\"id\":\"1447\"}},\"id\":\"1446\",\"type\":\"LinearAxis\"},{\"attributes\":{},\"id\":\"1474\",\"type\":\"BasicTickFormatter\"},{\"attributes\":{\"margin\":[5,5,5,5],\"name\":\"HSpacer02437\",\"sizing_mode\":\"stretch_width\"},\"id\":\"1499\",\"type\":\"Spacer\"},{\"attributes\":{\"axis_label\":\"k\",\"coordinates\":null,\"formatter\":{\"id\":\"1474\"},\"group\":null,\"major_label_policy\":{\"id\":\"1475\"},\"ticker\":{\"id\":\"1472\"}},\"id\":\"1442\",\"type\":\"LinearAxis\"},{\"attributes\":{\"data\":{\"inertia\":{\"__ndarray__\":\"ZTafYnL2gUAzbWBmntZoQKGmqsr9Bl1ATfWgT6xnVkDg0qR94pNQQAwzFtg6gkxAL4lQDTvuR0D2MOcNVaJDQOW1b3wwFkBA7C2/QpNqPEA=\",\"dtype\":\"float64\",\"order\":\"little\",\"shape\":[10]},\"k\":[1,2,3,4,5,6,7,8,9,10]},\"selected\":{\"id\":\"1464\"},\"selection_policy\":{\"id\":\"1487\"}},\"id\":\"1463\",\"type\":\"ColumnDataSource\"},{\"attributes\":{},\"id\":\"1480\",\"type\":\"AllLabels\"},{\"attributes\":{\"end\":629.4448064337395,\"reset_end\":629.4448064337395,\"reset_start\":-26.22264474443687,\"start\":-26.22264474443687,\"tags\":[[[\"inertia\",\"inertia\",null]]]},\"id\":\"1431\",\"type\":\"Range1d\"}],\"root_ids\":[\"1428\"]},\"title\":\"Bokeh Application\",\"version\":\"2.4.2\"}};\n",
       "    var render_items = [{\"docid\":\"e2f47d6f-fd14-4cf7-82a1-9310edb3eb51\",\"root_ids\":[\"1428\"],\"roots\":{\"1428\":\"5ddba8c3-2815-43a8-8f1b-570e5d3e74a5\"}}];\n",
       "    root.Bokeh.embed.embed_items_notebook(docs_json, render_items);\n",
       "  }\n",
       "  if (root.Bokeh !== undefined && root.Bokeh.Panel !== undefined) {\n",
       "    embed_document(root);\n",
       "  } else {\n",
       "    var attempts = 0;\n",
       "    var timer = setInterval(function(root) {\n",
       "      if (root.Bokeh !== undefined && root.Bokeh.Panel !== undefined) {\n",
       "        clearInterval(timer);\n",
       "        embed_document(root);\n",
       "      } else if (document.readyState == \"complete\") {\n",
       "        attempts++;\n",
       "        if (attempts > 200) {\n",
       "          clearInterval(timer);\n",
       "          console.log(\"Bokeh: ERROR: Unable to run BokehJS code because BokehJS library is missing\");\n",
       "        }\n",
       "      }\n",
       "    }, 25, root)\n",
       "  }\n",
       "})(window);</script>"
      ],
      "text/plain": [
       ":Curve   [k]   (inertia)"
      ]
     },
     "execution_count": 19,
     "metadata": {
      "application/vnd.holoviews_exec.v0+json": {
       "id": "1428"
      }
     },
     "output_type": "execute_result"
    }
   ],
   "source": [
    "# Find the best value for K\n",
    "inertia = []\n",
    "k = list(range(1, 11))\n",
    "\n",
    "# Calculate the inertia for the range of K values\n",
    "for i in k:\n",
    "    km = KMeans(n_clusters=i, random_state=0)\n",
    "    km.fit(df_iris_pca)\n",
    "    inertia.append(km.inertia_)\n",
    "\n",
    "# Create the elbow curve\n",
    "elbow_data = {\"k\": k, \"inertia\": inertia}\n",
    "df_elbow = pd.DataFrame(elbow_data)\n",
    "df_elbow.hvplot.line(x=\"k\", y=\"inertia\", xticks=k, title=\"Elbow Curve\")"
   ]
  },
  {
   "cell_type": "code",
   "execution_count": 20,
   "id": "5ced191b",
   "metadata": {},
   "outputs": [
    {
     "data": {
      "text/html": [
       "<div>\n",
       "<style scoped>\n",
       "    .dataframe tbody tr th:only-of-type {\n",
       "        vertical-align: middle;\n",
       "    }\n",
       "\n",
       "    .dataframe tbody tr th {\n",
       "        vertical-align: top;\n",
       "    }\n",
       "\n",
       "    .dataframe thead th {\n",
       "        text-align: right;\n",
       "    }\n",
       "</style>\n",
       "<table border=\"1\" class=\"dataframe\">\n",
       "  <thead>\n",
       "    <tr style=\"text-align: right;\">\n",
       "      <th></th>\n",
       "      <th>principal component 1</th>\n",
       "      <th>principal component 2</th>\n",
       "      <th>class</th>\n",
       "    </tr>\n",
       "  </thead>\n",
       "  <tbody>\n",
       "    <tr>\n",
       "      <th>0</th>\n",
       "      <td>-2.264542</td>\n",
       "      <td>0.505704</td>\n",
       "      <td>0</td>\n",
       "    </tr>\n",
       "    <tr>\n",
       "      <th>1</th>\n",
       "      <td>-2.086426</td>\n",
       "      <td>-0.655405</td>\n",
       "      <td>0</td>\n",
       "    </tr>\n",
       "    <tr>\n",
       "      <th>2</th>\n",
       "      <td>-2.367950</td>\n",
       "      <td>-0.318477</td>\n",
       "      <td>0</td>\n",
       "    </tr>\n",
       "    <tr>\n",
       "      <th>3</th>\n",
       "      <td>-2.304197</td>\n",
       "      <td>-0.575368</td>\n",
       "      <td>0</td>\n",
       "    </tr>\n",
       "    <tr>\n",
       "      <th>4</th>\n",
       "      <td>-2.388777</td>\n",
       "      <td>0.674767</td>\n",
       "      <td>0</td>\n",
       "    </tr>\n",
       "  </tbody>\n",
       "</table>\n",
       "</div>"
      ],
      "text/plain": [
       "   principal component 1  principal component 2  class\n",
       "0              -2.264542               0.505704      0\n",
       "1              -2.086426              -0.655405      0\n",
       "2              -2.367950              -0.318477      0\n",
       "3              -2.304197              -0.575368      0\n",
       "4              -2.388777               0.674767      0"
      ]
     },
     "execution_count": 20,
     "metadata": {},
     "output_type": "execute_result"
    }
   ],
   "source": [
    "# Initialize the K-means model\n",
    "model = KMeans(n_clusters=3, random_state=0)\n",
    "\n",
    "# Fit the model\n",
    "model.fit(df_iris_pca)\n",
    "\n",
    "# Predict clusters\n",
    "predictions = model.predict(df_iris_pca)\n",
    "\n",
    "# Add the predicted class columns\n",
    "df_iris_pca[\"class\"] = model.labels_\n",
    "df_iris_pca.head()"
   ]
  },
  {
   "cell_type": "code",
   "execution_count": 21,
   "id": "6cd20e4e",
   "metadata": {},
   "outputs": [
    {
     "data": {
      "application/vnd.holoviews_exec.v0+json": "",
      "text/html": [
       "<div id='1546'>\n",
       "\n",
       "\n",
       "\n",
       "\n",
       "\n",
       "  <div class=\"bk-root\" id=\"665a6f9f-e43f-41d0-9ec2-3511782d6e1f\" data-root-id=\"1546\"></div>\n",
       "</div>\n",
       "<script type=\"application/javascript\">(function(root) {\n",
       "  function embed_document(root) {\n",
       "    var docs_json = {\"df65bf48-0cc5-4a66-8dc6-a2de6fbd91b2\":{\"defs\":[{\"extends\":null,\"module\":null,\"name\":\"ReactiveHTML1\",\"overrides\":[],\"properties\":[]},{\"extends\":null,\"module\":null,\"name\":\"FlexBox1\",\"overrides\":[],\"properties\":[{\"default\":\"flex-start\",\"kind\":null,\"name\":\"align_content\"},{\"default\":\"flex-start\",\"kind\":null,\"name\":\"align_items\"},{\"default\":\"row\",\"kind\":null,\"name\":\"flex_direction\"},{\"default\":\"wrap\",\"kind\":null,\"name\":\"flex_wrap\"},{\"default\":\"flex-start\",\"kind\":null,\"name\":\"justify_content\"}]},{\"extends\":null,\"module\":null,\"name\":\"GridStack1\",\"overrides\":[],\"properties\":[{\"default\":\"warn\",\"kind\":null,\"name\":\"mode\"},{\"default\":null,\"kind\":null,\"name\":\"ncols\"},{\"default\":null,\"kind\":null,\"name\":\"nrows\"},{\"default\":true,\"kind\":null,\"name\":\"allow_resize\"},{\"default\":true,\"kind\":null,\"name\":\"allow_drag\"},{\"default\":[],\"kind\":null,\"name\":\"state\"}]},{\"extends\":null,\"module\":null,\"name\":\"click1\",\"overrides\":[],\"properties\":[{\"default\":\"\",\"kind\":null,\"name\":\"terminal_output\"},{\"default\":\"\",\"kind\":null,\"name\":\"debug_name\"},{\"default\":0,\"kind\":null,\"name\":\"clears\"}]},{\"extends\":null,\"module\":null,\"name\":\"TemplateActions1\",\"overrides\":[],\"properties\":[{\"default\":0,\"kind\":null,\"name\":\"open_modal\"},{\"default\":0,\"kind\":null,\"name\":\"close_modal\"}]},{\"extends\":null,\"module\":null,\"name\":\"MaterialTemplateActions1\",\"overrides\":[],\"properties\":[{\"default\":0,\"kind\":null,\"name\":\"open_modal\"},{\"default\":0,\"kind\":null,\"name\":\"close_modal\"}]}],\"roots\":{\"references\":[{\"attributes\":{\"coordinates\":null,\"data_source\":{\"id\":\"1610\"},\"glyph\":{\"id\":\"1613\"},\"group\":null,\"hover_glyph\":null,\"muted_glyph\":{\"id\":\"1615\"},\"nonselection_glyph\":{\"id\":\"1614\"},\"selection_glyph\":{\"id\":\"1631\"},\"view\":{\"id\":\"1617\"}},\"id\":\"1616\",\"type\":\"GlyphRenderer\"},{\"attributes\":{\"bottom_units\":\"screen\",\"coordinates\":null,\"fill_alpha\":0.5,\"fill_color\":\"lightgrey\",\"group\":null,\"left_units\":\"screen\",\"level\":\"overlay\",\"line_alpha\":1.0,\"line_color\":\"black\",\"line_dash\":[4,4],\"line_width\":2,\"right_units\":\"screen\",\"syncable\":false,\"top_units\":\"screen\"},\"id\":\"1575\",\"type\":\"BoxAnnotation\"},{\"attributes\":{\"margin\":[5,5,5,5],\"name\":\"HSpacer02668\",\"sizing_mode\":\"stretch_width\"},\"id\":\"1782\",\"type\":\"Spacer\"},{\"attributes\":{\"fill_alpha\":{\"value\":0.1},\"fill_color\":{\"value\":\"#fc4f30\"},\"hatch_alpha\":{\"value\":0.1},\"hatch_color\":{\"value\":\"#fc4f30\"},\"line_alpha\":{\"value\":0.1},\"line_color\":{\"value\":\"#fc4f30\"},\"size\":{\"value\":5.477225575051661},\"x\":{\"field\":\"principal component 1\"},\"y\":{\"field\":\"principal component 2\"}},\"id\":\"1614\",\"type\":\"Scatter\"},{\"attributes\":{},\"id\":\"1570\",\"type\":\"SaveTool\"},{\"attributes\":{},\"id\":\"1571\",\"type\":\"PanTool\"},{\"attributes\":{},\"id\":\"1587\",\"type\":\"BasicTickFormatter\"},{\"attributes\":{},\"id\":\"1574\",\"type\":\"ResetTool\"},{\"attributes\":{\"data\":{\"class\":{\"__ndarray__\":\"AQAAAAEAAAABAAAAAQAAAAEAAAABAAAAAQAAAAEAAAABAAAAAQAAAAEAAAABAAAAAQAAAAEAAAABAAAAAQAAAAEAAAABAAAAAQAAAAEAAAABAAAAAQAAAAEAAAABAAAAAQAAAAEAAAABAAAAAQAAAAEAAAABAAAAAQAAAAEAAAABAAAAAQAAAAEAAAABAAAAAQAAAAEAAAABAAAAAQAAAAEAAAABAAAAAQAAAAEAAAABAAAAAQAAAAEAAAABAAAAAQAAAAEAAAABAAAAAQAAAAEAAAA=\",\"dtype\":\"int32\",\"order\":\"little\",\"shape\":[53]},\"principal component 1\":{\"__ndarray__\":\"fRWMhntt2T9HnJZFWCnxP2eBHlf2mtg/6f4dZv7c379qGywXnaPtP4bBkDZaWXQ/6N2FPizsv7+sz+h8JxTcP1ZNsk78puE/N0UqJwTz5j+1z63ghxOjv5lu06S8RdY/4rIv7V2iwz9k6iTH4XHzPzDYZACmFsQ/Va1SDE473j8OyjX41qXzP4kxy7fjI+Q/GdCK7kVq5j8bhVUnIzDlP8Ab1FJINai/Tz98rN0cvz9mkFg5BOqMPx3f6GWaNc4/DM1ZRTXo8D+hsJMoZVfMP8+bvwf1kvA/tV4TnFcrsT90NwN1kKDRP8d9yQ7wbdE/oo3+VwPx4z+13kvRzh7VP8LEFNWD6de/1iTllsIb0j8wX21EL8y2PwQkQhu5t8w/7wRG5kBd4j/XjFDrsj/dv96A0gDGJNA/3F8IKHdz8j/4oUp+m+/WP1n35HGkDPQ/GOKIxsts9z/7RPpdThD0P4titwdQKu8/8oqkmmBE9T9ffP3wHsDyP932a9zEx/E/JzazatUo8z+UvvFQw4ztP9xfCCh3c/I/R9VbMZXv+D802SvtkrLuPw==\",\"dtype\":\"float64\",\"order\":\"little\",\"shape\":[53]},\"principal component 2\":{\"__ndarray__\":\"j80hw3Uh/L99AFcJ4hrLv/IVlNb76eK/ZJSza/eU/b95jGFUCw+fP+nLA01tePC/8oKEXbZDBcDJ9gYTsCWuv0bNqHx+XPy/2nstxk+8x78wLLY26rLbvxu+JkVKZsi/k4nUeJ9N6b9h5T6HOSL6v71Ai9CC2fS/sQipiLWp2r9Cr8dW+Rvuv+bFU70Krdq/9DbCViNBsL9nGdg+X7fMv2YFEZBX6vC/asJ8cXkE+b9r1i92nSz5v0GekB1e1Oi/EC0SzX5h5L+Hbj2aaPnRv7iLs++KR/a/l8do/yc3y789ZwsN7Ub1vycJ/oM76fG/ucUd1SI0nD9n68QlE6Xvv87C5Ku5JADApUs7dJBT67+0jkY+Z2PGv1L2R1TcWdi/eDq1mhitw7+0+86JpaH4v6Z6HI5KEeO/UQhbdkNx5r9Clg29Jfb4v5MxaImirfK/tK9g7els3L9QKnQyOXv7v0nNWXwPR+K/QWwdsBUn37/F2YlbzWjUv/6TgLFv8dK/Ta/b9jwm6r/t/1pSILGTP1EIW3ZDcea/vlrVOlT47L/4Ciw2mtGWvw==\",\"dtype\":\"float64\",\"order\":\"little\",\"shape\":[53]},\"principal_component_1\":{\"__ndarray__\":\"fRWMhntt2T9HnJZFWCnxP2eBHlf2mtg/6f4dZv7c379qGywXnaPtP4bBkDZaWXQ/6N2FPizsv7+sz+h8JxTcP1ZNsk78puE/N0UqJwTz5j+1z63ghxOjv5lu06S8RdY/4rIv7V2iwz9k6iTH4XHzPzDYZACmFsQ/Va1SDE473j8OyjX41qXzP4kxy7fjI+Q/GdCK7kVq5j8bhVUnIzDlP8Ab1FJINai/Tz98rN0cvz9mkFg5BOqMPx3f6GWaNc4/DM1ZRTXo8D+hsJMoZVfMP8+bvwf1kvA/tV4TnFcrsT90NwN1kKDRP8d9yQ7wbdE/oo3+VwPx4z+13kvRzh7VP8LEFNWD6de/1iTllsIb0j8wX21EL8y2PwQkQhu5t8w/7wRG5kBd4j/XjFDrsj/dv96A0gDGJNA/3F8IKHdz8j/4oUp+m+/WP1n35HGkDPQ/GOKIxsts9z/7RPpdThD0P4titwdQKu8/8oqkmmBE9T9ffP3wHsDyP932a9zEx/E/JzazatUo8z+UvvFQw4ztP9xfCCh3c/I/R9VbMZXv+D802SvtkrLuPw==\",\"dtype\":\"float64\",\"order\":\"little\",\"shape\":[53]},\"principal_component_2\":{\"__ndarray__\":\"j80hw3Uh/L99AFcJ4hrLv/IVlNb76eK/ZJSza/eU/b95jGFUCw+fP+nLA01tePC/8oKEXbZDBcDJ9gYTsCWuv0bNqHx+XPy/2nstxk+8x78wLLY26rLbvxu+JkVKZsi/k4nUeJ9N6b9h5T6HOSL6v71Ai9CC2fS/sQipiLWp2r9Cr8dW+Rvuv+bFU70Krdq/9DbCViNBsL9nGdg+X7fMv2YFEZBX6vC/asJ8cXkE+b9r1i92nSz5v0GekB1e1Oi/EC0SzX5h5L+Hbj2aaPnRv7iLs++KR/a/l8do/yc3y789ZwsN7Ub1vycJ/oM76fG/ucUd1SI0nD9n68QlE6Xvv87C5Ku5JADApUs7dJBT67+0jkY+Z2PGv1L2R1TcWdi/eDq1mhitw7+0+86JpaH4v6Z6HI5KEeO/UQhbdkNx5r9Clg29Jfb4v5MxaImirfK/tK9g7els3L9QKnQyOXv7v0nNWXwPR+K/QWwdsBUn37/F2YlbzWjUv/6TgLFv8dK/Ta/b9jwm6r/t/1pSILGTP1EIW3ZDcea/vlrVOlT47L/4Ciw2mtGWvw==\",\"dtype\":\"float64\",\"order\":\"little\",\"shape\":[53]}},\"selected\":{\"id\":\"1611\"},\"selection_policy\":{\"id\":\"1627\"}},\"id\":\"1610\",\"type\":\"ColumnDataSource\"},{\"attributes\":{},\"id\":\"1572\",\"type\":\"WheelZoomTool\"},{\"attributes\":{\"end\":3.260414452028092,\"reset_end\":3.260414452028092,\"reset_start\":-3.1961060534153827,\"start\":-3.1961060534153827,\"tags\":[[[\"principal component 2\",\"principal component 2\",null]]]},\"id\":\"1549\",\"type\":\"Range1d\"},{\"attributes\":{},\"id\":\"1558\",\"type\":\"LinearScale\"},{\"attributes\":{},\"id\":\"1590\",\"type\":\"Selection\"},{\"attributes\":{\"source\":{\"id\":\"1610\"}},\"id\":\"1617\",\"type\":\"CDSView\"},{\"attributes\":{\"overlay\":{\"id\":\"1575\"}},\"id\":\"1573\",\"type\":\"BoxZoomTool\"},{\"attributes\":{},\"id\":\"1651\",\"type\":\"UnionRenderers\"},{\"attributes\":{\"data\":{\"class\":{\"__ndarray__\":\"AgAAAAIAAAACAAAAAgAAAAIAAAACAAAAAgAAAAIAAAACAAAAAgAAAAIAAAACAAAAAgAAAAIAAAACAAAAAgAAAAIAAAACAAAAAgAAAAIAAAACAAAAAgAAAAIAAAACAAAAAgAAAAIAAAACAAAAAgAAAAIAAAACAAAAAgAAAAIAAAACAAAAAgAAAAIAAAACAAAAAgAAAAIAAAACAAAAAgAAAAIAAAACAAAAAgAAAAIAAAACAAAAAgAAAAIAAAA=\",\"dtype\":\"int32\",\"order\":\"little\",\"shape\":[47]},\"principal component 1\":{\"__ndarray__\":\"cJicP/Wp8T/ldLjqfHDnP0VUdjeu3/M/jH2nUXn15z95t9eWSwfsPwHqCkTLn+c/YokX1wP06z/oYaNJSxH0PxJwyrRZu/U/WyqW1lWi2z+iboqoZcrwP19oZCMRkP0/WqOtkJqmAUCrkwP82gT3P8Cof1zh4v0/cUK5SJgIBkDiZzhbjmwCQPMm68uNAwBAHk9oqvMjAkBqi3vYw9r1P6gQOb/Elfk/Na6UReUl/j8V0QQIDXj5P3cdkBhdivc/PvYnSsB/A0AuhisDH3kKQJTn9rPvUgBANS4taDwvB0A8qLnnkUT7P6IJnj3aUv8/HNLu7wVR8D+c2hYHfpP8P3obVl0h1v0/hvhsDuZ7A0AutjE3VocCQGctB9QUxP0/jE42KVhoBkCu+a/eUEj5P+3OTXR+jfU/OAUQICao/T8MDMQGFyEAQLRqwqkqc/4/Nw5TGLJYAEC2eb2NdgMAQOvgNY2o7f0/84JComFV+D8J9OTEsgX2Pw==\",\"dtype\":\"float64\",\"order\":\"little\",\"shape\":[47]},\"principal component 2\":{\"__ndarray__\":\"23b2/Z2e6z8bPDfKBSjjP9nNPSGgrOM/r1+rWRnr6D9kOXqk51HgP4hBqiETwtk/Yp7yIJwL0D/vh7BClya1v0MteShkC9U/CQg+Gkhd6z/Bk6QJ17XgP3osy2Xw5Os/CMTpFji+4T/FlDOr+pqpv+lEGSLnotI/ngetLdY66T9QO0mDhTXaP7CQnq/nKee/vI2XATu+/j8yoQKF0jTmP2p9L85taNu/a6dDi22E2j8ufGgVRqrlPy83rDJONNA/fzlsMT10BEAHi6QTDFhjvz90hSJpCe0/a5KR42l12T+PWt+y8znwP5yAK36oDfA/V6j7cmzHsD/vvEvBKb3Iv5HkXX2vxeE/1V7ipF+Szz8j4TWwbAIFQJmBO1NYo8e/Sys1XS0I6z+hj2oE2yjxPxb8A+M9Bts/u6TAq3yE5T/X+zteX4jjP952Ilnq8+U/tiJfoH+r6z86eOdp3MbwP/lDMiongNg/d9tvjSkT0T8bLdG5BEPwPw==\",\"dtype\":\"float64\",\"order\":\"little\",\"shape\":[47]},\"principal_component_1\":{\"__ndarray__\":\"cJicP/Wp8T/ldLjqfHDnP0VUdjeu3/M/jH2nUXn15z95t9eWSwfsPwHqCkTLn+c/YokX1wP06z/oYaNJSxH0PxJwyrRZu/U/WyqW1lWi2z+iboqoZcrwP19oZCMRkP0/WqOtkJqmAUCrkwP82gT3P8Cof1zh4v0/cUK5SJgIBkDiZzhbjmwCQPMm68uNAwBAHk9oqvMjAkBqi3vYw9r1P6gQOb/Elfk/Na6UReUl/j8V0QQIDXj5P3cdkBhdivc/PvYnSsB/A0AuhisDH3kKQJTn9rPvUgBANS4taDwvB0A8qLnnkUT7P6IJnj3aUv8/HNLu7wVR8D+c2hYHfpP8P3obVl0h1v0/hvhsDuZ7A0AutjE3VocCQGctB9QUxP0/jE42KVhoBkCu+a/eUEj5P+3OTXR+jfU/OAUQICao/T8MDMQGFyEAQLRqwqkqc/4/Nw5TGLJYAEC2eb2NdgMAQOvgNY2o7f0/84JComFV+D8J9OTEsgX2Pw==\",\"dtype\":\"float64\",\"order\":\"little\",\"shape\":[47]},\"principal_component_2\":{\"__ndarray__\":\"23b2/Z2e6z8bPDfKBSjjP9nNPSGgrOM/r1+rWRnr6D9kOXqk51HgP4hBqiETwtk/Yp7yIJwL0D/vh7BClya1v0MteShkC9U/CQg+Gkhd6z/Bk6QJ17XgP3osy2Xw5Os/CMTpFji+4T/FlDOr+pqpv+lEGSLnotI/ngetLdY66T9QO0mDhTXaP7CQnq/nKee/vI2XATu+/j8yoQKF0jTmP2p9L85taNu/a6dDi22E2j8ufGgVRqrlPy83rDJONNA/fzlsMT10BEAHi6QTDFhjvz90hSJpCe0/a5KR42l12T+PWt+y8znwP5yAK36oDfA/V6j7cmzHsD/vvEvBKb3Iv5HkXX2vxeE/1V7ipF+Szz8j4TWwbAIFQJmBO1NYo8e/Sys1XS0I6z+hj2oE2yjxPxb8A+M9Bts/u6TAq3yE5T/X+zteX4jjP952Ilnq8+U/tiJfoH+r6z86eOdp3MbwP/lDMiongNg/d9tvjSkT0T8bLdG5BEPwPw==\",\"dtype\":\"float64\",\"order\":\"little\",\"shape\":[47]}},\"selected\":{\"id\":\"1633\"},\"selection_policy\":{\"id\":\"1651\"}},\"id\":\"1632\",\"type\":\"ColumnDataSource\"},{\"attributes\":{\"margin\":[5,5,5,5],\"name\":\"HSpacer02667\",\"sizing_mode\":\"stretch_width\"},\"id\":\"1547\",\"type\":\"Spacer\"},{\"attributes\":{},\"id\":\"1611\",\"type\":\"Selection\"},{\"attributes\":{\"below\":[{\"id\":\"1562\"}],\"center\":[{\"id\":\"1565\"},{\"id\":\"1569\"}],\"height\":300,\"left\":[{\"id\":\"1566\"}],\"margin\":[5,5,5,5],\"min_border_bottom\":10,\"min_border_left\":10,\"min_border_right\":10,\"min_border_top\":10,\"renderers\":[{\"id\":\"1595\"},{\"id\":\"1616\"},{\"id\":\"1638\"}],\"right\":[{\"id\":\"1607\"}],\"sizing_mode\":\"fixed\",\"title\":{\"id\":\"1554\"},\"toolbar\":{\"id\":\"1576\"},\"width\":700,\"x_range\":{\"id\":\"1548\"},\"x_scale\":{\"id\":\"1558\"},\"y_range\":{\"id\":\"1549\"},\"y_scale\":{\"id\":\"1560\"}},\"id\":\"1553\",\"subtype\":\"Figure\",\"type\":\"Plot\"},{\"attributes\":{\"fill_alpha\":{\"value\":0.1},\"fill_color\":{\"value\":\"#30a2da\"},\"hatch_alpha\":{\"value\":0.1},\"hatch_color\":{\"value\":\"#30a2da\"},\"line_alpha\":{\"value\":0.1},\"line_color\":{\"value\":\"#30a2da\"},\"size\":{\"value\":5.477225575051661},\"x\":{\"field\":\"principal component 1\"},\"y\":{\"field\":\"principal component 2\"}},\"id\":\"1593\",\"type\":\"Scatter\"},{\"attributes\":{\"fill_alpha\":{\"value\":0.2},\"fill_color\":{\"value\":\"#30a2da\"},\"hatch_alpha\":{\"value\":0.2},\"hatch_color\":{\"value\":\"#30a2da\"},\"line_alpha\":{\"value\":0.2},\"line_color\":{\"value\":\"#30a2da\"},\"size\":{\"value\":5.477225575051661},\"x\":{\"field\":\"principal component 1\"},\"y\":{\"field\":\"principal component 2\"}},\"id\":\"1594\",\"type\":\"Scatter\"},{\"attributes\":{\"fill_alpha\":{\"value\":0.2},\"fill_color\":{\"value\":\"#e5ae38\"},\"hatch_alpha\":{\"value\":0.2},\"hatch_color\":{\"value\":\"#e5ae38\"},\"line_alpha\":{\"value\":0.2},\"line_color\":{\"value\":\"#e5ae38\"},\"size\":{\"value\":5.477225575051661},\"x\":{\"field\":\"principal component 1\"},\"y\":{\"field\":\"principal component 2\"}},\"id\":\"1637\",\"type\":\"Scatter\"},{\"attributes\":{\"coordinates\":null,\"group\":null,\"text_color\":\"black\",\"text_font_size\":\"12pt\"},\"id\":\"1554\",\"type\":\"Title\"},{\"attributes\":{\"fill_alpha\":{\"value\":0.1},\"fill_color\":{\"value\":\"#e5ae38\"},\"hatch_alpha\":{\"value\":0.1},\"hatch_color\":{\"value\":\"#e5ae38\"},\"line_alpha\":{\"value\":0.1},\"line_color\":{\"value\":\"#e5ae38\"},\"size\":{\"value\":5.477225575051661},\"x\":{\"field\":\"principal component 1\"},\"y\":{\"field\":\"principal component 2\"}},\"id\":\"1636\",\"type\":\"Scatter\"},{\"attributes\":{},\"id\":\"1567\",\"type\":\"BasicTicker\"},{\"attributes\":{\"coordinates\":null,\"data_source\":{\"id\":\"1632\"},\"glyph\":{\"id\":\"1635\"},\"group\":null,\"hover_glyph\":null,\"muted_glyph\":{\"id\":\"1637\"},\"nonselection_glyph\":{\"id\":\"1636\"},\"selection_glyph\":{\"id\":\"1655\"},\"view\":{\"id\":\"1639\"}},\"id\":\"1638\",\"type\":\"GlyphRenderer\"},{\"attributes\":{\"source\":{\"id\":\"1589\"}},\"id\":\"1596\",\"type\":\"CDSView\"},{\"attributes\":{},\"id\":\"1563\",\"type\":\"BasicTicker\"},{\"attributes\":{\"angle\":{\"value\":0.0},\"fill_alpha\":{\"value\":1.0},\"fill_color\":{\"value\":\"#30a2da\"},\"hatch_alpha\":{\"value\":1.0},\"hatch_color\":{\"value\":\"#30a2da\"},\"hatch_scale\":{\"value\":12.0},\"hatch_weight\":{\"value\":1.0},\"line_alpha\":{\"value\":1.0},\"line_cap\":{\"value\":\"butt\"},\"line_color\":{\"value\":\"#30a2da\"},\"line_dash\":{\"value\":[]},\"line_dash_offset\":{\"value\":0},\"line_join\":{\"value\":\"bevel\"},\"line_width\":{\"value\":1},\"marker\":{\"value\":\"circle\"},\"size\":{\"value\":5.477225575051661},\"x\":{\"field\":\"principal component 1\"},\"y\":{\"field\":\"principal component 2\"}},\"id\":\"1609\",\"type\":\"Scatter\"},{\"attributes\":{\"axis\":{\"id\":\"1562\"},\"coordinates\":null,\"grid_line_color\":null,\"group\":null,\"ticker\":null},\"id\":\"1565\",\"type\":\"Grid\"},{\"attributes\":{\"source\":{\"id\":\"1632\"}},\"id\":\"1639\",\"type\":\"CDSView\"},{\"attributes\":{\"coordinates\":null,\"data_source\":{\"id\":\"1589\"},\"glyph\":{\"id\":\"1592\"},\"group\":null,\"hover_glyph\":null,\"muted_glyph\":{\"id\":\"1594\"},\"nonselection_glyph\":{\"id\":\"1593\"},\"selection_glyph\":{\"id\":\"1609\"},\"view\":{\"id\":\"1596\"}},\"id\":\"1595\",\"type\":\"GlyphRenderer\"},{\"attributes\":{},\"id\":\"1604\",\"type\":\"UnionRenderers\"},{\"attributes\":{},\"id\":\"1560\",\"type\":\"LinearScale\"},{\"attributes\":{\"axis_label\":\"principal component 2\",\"coordinates\":null,\"formatter\":{\"id\":\"1587\"},\"group\":null,\"major_label_policy\":{\"id\":\"1588\"},\"ticker\":{\"id\":\"1567\"}},\"id\":\"1566\",\"type\":\"LinearAxis\"},{\"attributes\":{\"label\":{\"value\":\"0\"},\"renderers\":[{\"id\":\"1595\"}]},\"id\":\"1608\",\"type\":\"LegendItem\"},{\"attributes\":{\"label\":{\"value\":\"1\"},\"renderers\":[{\"id\":\"1616\"}]},\"id\":\"1630\",\"type\":\"LegendItem\"},{\"attributes\":{\"axis_label\":\"principal component 1\",\"coordinates\":null,\"formatter\":{\"id\":\"1584\"},\"group\":null,\"major_label_policy\":{\"id\":\"1585\"},\"ticker\":{\"id\":\"1563\"}},\"id\":\"1562\",\"type\":\"LinearAxis\"},{\"attributes\":{\"label\":{\"value\":\"2\"},\"renderers\":[{\"id\":\"1638\"}]},\"id\":\"1654\",\"type\":\"LegendItem\"},{\"attributes\":{},\"id\":\"1627\",\"type\":\"UnionRenderers\"},{\"attributes\":{\"end\":3.569854510235274,\"reset_end\":3.569854510235274,\"reset_start\":-3.0348831212643517,\"start\":-3.0348831212643517,\"tags\":[[[\"principal component 1\",\"principal component 1\",null]]]},\"id\":\"1548\",\"type\":\"Range1d\"},{\"attributes\":{\"callback\":null,\"renderers\":[{\"id\":\"1595\"},{\"id\":\"1616\"},{\"id\":\"1638\"}],\"tags\":[\"hv_created\"],\"tooltips\":[[\"class\",\"@{class}\"],[\"principal component 1\",\"@{principal_component_1}\"],[\"principal component 2\",\"@{principal_component_2}\"]]},\"id\":\"1550\",\"type\":\"HoverTool\"},{\"attributes\":{\"fill_color\":{\"value\":\"#e5ae38\"},\"hatch_color\":{\"value\":\"#e5ae38\"},\"line_color\":{\"value\":\"#e5ae38\"},\"size\":{\"value\":5.477225575051661},\"x\":{\"field\":\"principal component 1\"},\"y\":{\"field\":\"principal component 2\"}},\"id\":\"1635\",\"type\":\"Scatter\"},{\"attributes\":{},\"id\":\"1633\",\"type\":\"Selection\"},{\"attributes\":{\"axis\":{\"id\":\"1566\"},\"coordinates\":null,\"dimension\":1,\"grid_line_color\":null,\"group\":null,\"ticker\":null},\"id\":\"1569\",\"type\":\"Grid\"},{\"attributes\":{\"fill_color\":{\"value\":\"#30a2da\"},\"hatch_color\":{\"value\":\"#30a2da\"},\"line_color\":{\"value\":\"#30a2da\"},\"size\":{\"value\":5.477225575051661},\"x\":{\"field\":\"principal component 1\"},\"y\":{\"field\":\"principal component 2\"}},\"id\":\"1592\",\"type\":\"Scatter\"},{\"attributes\":{\"click_policy\":\"mute\",\"coordinates\":null,\"group\":null,\"items\":[{\"id\":\"1608\"},{\"id\":\"1630\"},{\"id\":\"1654\"}],\"location\":[0,0],\"title\":\"class\"},\"id\":\"1607\",\"type\":\"Legend\"},{\"attributes\":{\"angle\":{\"value\":0.0},\"fill_alpha\":{\"value\":1.0},\"fill_color\":{\"value\":\"#e5ae38\"},\"hatch_alpha\":{\"value\":1.0},\"hatch_color\":{\"value\":\"#e5ae38\"},\"hatch_scale\":{\"value\":12.0},\"hatch_weight\":{\"value\":1.0},\"line_alpha\":{\"value\":1.0},\"line_cap\":{\"value\":\"butt\"},\"line_color\":{\"value\":\"#e5ae38\"},\"line_dash\":{\"value\":[]},\"line_dash_offset\":{\"value\":0},\"line_join\":{\"value\":\"bevel\"},\"line_width\":{\"value\":1},\"marker\":{\"value\":\"circle\"},\"size\":{\"value\":5.477225575051661},\"x\":{\"field\":\"principal component 1\"},\"y\":{\"field\":\"principal component 2\"}},\"id\":\"1655\",\"type\":\"Scatter\"},{\"attributes\":{},\"id\":\"1588\",\"type\":\"AllLabels\"},{\"attributes\":{\"children\":[{\"id\":\"1547\"},{\"id\":\"1553\"},{\"id\":\"1782\"}],\"margin\":[0,0,0,0],\"name\":\"Row02663\",\"tags\":[\"embedded\"]},\"id\":\"1546\",\"type\":\"Row\"},{\"attributes\":{\"data\":{\"class\":{\"__ndarray__\":\"AAAAAAAAAAAAAAAAAAAAAAAAAAAAAAAAAAAAAAAAAAAAAAAAAAAAAAAAAAAAAAAAAAAAAAAAAAAAAAAAAAAAAAAAAAAAAAAAAAAAAAAAAAAAAAAAAAAAAAAAAAAAAAAAAAAAAAAAAAAAAAAAAAAAAAAAAAAAAAAAAAAAAAAAAAAAAAAAAAAAAAAAAAAAAAAAAAAAAAAAAAAAAAAAAAAAAAAAAAAAAAAAAAAAAAAAAAAAAAAAAAAAAAAAAAAAAAAAAAAAAAAAAAA=\",\"dtype\":\"int32\",\"order\":\"little\",\"shape\":[50]},\"principal component 1\":{\"__ndarray__\":\"OxG/DcgdAsCeflXa/7AAwCstSgGQ8QLAqnjV6/5uAsB8OOBfNxwDwLEJAJp1kADA6lhZG9GQA8C3vPx66N4BwLbvZ05UvALA4dUzb2iCAcDFACQK0k4BwH2PWzp4ngLAakHW4evKAcBtYBiPIx4FwOBkYiHQiQHA7MLFMQADAsDCicmkO58BwNHnRqd8hQHADrKL2CBO/r9tMd43N7gCwDUu6+IFov6/J3pNIB2jAcAhHszufzEGwHCyHOBnIP2/cW9EsmPTAcBkStBn+E//v+cJWiugagDAzhcE6nVYAcDy6Z27WB8BwCENM3l7JgLA3eURJwwoAcCuCNRTnk/9v3SUD3eZ3QTAxoxIYeyAA8Dh1TNvaIIBwATB4qBfsAHApwtPDPdaAMDh1TNvaIIBwJvdMoLUfAPAUiP02UddAcA64QHLzkoCwFxzDEaD8v2/XPlj5HF2BMD2iQQfsG3/v/eHnMYlEQHAnu7lFFWaAMDP+qMb0QwDwI9moB9/LwPAKposq3LQAcDbjpZMy6UBwA==\",\"dtype\":\"float64\",\"order\":\"little\",\"shape\":[50]},\"principal component 2\":{\"__ndarray__\":\"Y+9787ku4D/xF8lWE/nkv2bYpqjuYdS/DCSQjGlp4r/T0afLsZflP7m+IZP5S/g/OySoGooWsz98eXQ10LHPP80IOjG4hfG/gk6pnFa23L9oMKXTKCHxPy2/qP2XTMQ/oao3kBix5r+FiXLvZwbuv9qryBtaPf4/krWrfGrHBUBhjF03Ujj4Pzf+/04udeA/9Ek0V9Tl9j8mpZIPTofyP3HAlsG9jNs/2/KSxId67j8/u+o4P1TfPybWDBwFVLs/R+1BJITCxD+yYRod23Pjv2+qjuRgBtE/b4xIfx6q4T/hGaA2hIvVP1tBWpX4JtS/PwayRej43r8Ulx54QH/cP7ZxJTRvQf0/w7Jwma57AUCCTqmcVrbcvwrn16FhmMe/s+VDvSnr5T+CTqmcVrbcv3PEP1q7Ouy/eUSP1gm80j9TwmaGk/PdP3x/28YcnwLAo+8l3FML3b9jssu+Q9XfP+reGJkvvvI/9owv2S8k5r9SqsG4/WjyP9GttwhpMde/d+6vZGBo8D8A7kmWeoGgPw==\",\"dtype\":\"float64\",\"order\":\"little\",\"shape\":[50]},\"principal_component_1\":{\"__ndarray__\":\"OxG/DcgdAsCeflXa/7AAwCstSgGQ8QLAqnjV6/5uAsB8OOBfNxwDwLEJAJp1kADA6lhZG9GQA8C3vPx66N4BwLbvZ05UvALA4dUzb2iCAcDFACQK0k4BwH2PWzp4ngLAakHW4evKAcBtYBiPIx4FwOBkYiHQiQHA7MLFMQADAsDCicmkO58BwNHnRqd8hQHADrKL2CBO/r9tMd43N7gCwDUu6+IFov6/J3pNIB2jAcAhHszufzEGwHCyHOBnIP2/cW9EsmPTAcBkStBn+E//v+cJWiugagDAzhcE6nVYAcDy6Z27WB8BwCENM3l7JgLA3eURJwwoAcCuCNRTnk/9v3SUD3eZ3QTAxoxIYeyAA8Dh1TNvaIIBwATB4qBfsAHApwtPDPdaAMDh1TNvaIIBwJvdMoLUfAPAUiP02UddAcA64QHLzkoCwFxzDEaD8v2/XPlj5HF2BMD2iQQfsG3/v/eHnMYlEQHAnu7lFFWaAMDP+qMb0QwDwI9moB9/LwPAKposq3LQAcDbjpZMy6UBwA==\",\"dtype\":\"float64\",\"order\":\"little\",\"shape\":[50]},\"principal_component_2\":{\"__ndarray__\":\"Y+9787ku4D/xF8lWE/nkv2bYpqjuYdS/DCSQjGlp4r/T0afLsZflP7m+IZP5S/g/OySoGooWsz98eXQ10LHPP80IOjG4hfG/gk6pnFa23L9oMKXTKCHxPy2/qP2XTMQ/oao3kBix5r+FiXLvZwbuv9qryBtaPf4/krWrfGrHBUBhjF03Ujj4Pzf+/04udeA/9Ek0V9Tl9j8mpZIPTofyP3HAlsG9jNs/2/KSxId67j8/u+o4P1TfPybWDBwFVLs/R+1BJITCxD+yYRod23Pjv2+qjuRgBtE/b4xIfx6q4T/hGaA2hIvVP1tBWpX4JtS/PwayRej43r8Ulx54QH/cP7ZxJTRvQf0/w7Jwma57AUCCTqmcVrbcvwrn16FhmMe/s+VDvSnr5T+CTqmcVrbcv3PEP1q7Ouy/eUSP1gm80j9TwmaGk/PdP3x/28YcnwLAo+8l3FML3b9jssu+Q9XfP+reGJkvvvI/9owv2S8k5r9SqsG4/WjyP9GttwhpMde/d+6vZGBo8D8A7kmWeoGgPw==\",\"dtype\":\"float64\",\"order\":\"little\",\"shape\":[50]}},\"selected\":{\"id\":\"1590\"},\"selection_policy\":{\"id\":\"1604\"}},\"id\":\"1589\",\"type\":\"ColumnDataSource\"},{\"attributes\":{\"fill_color\":{\"value\":\"#fc4f30\"},\"hatch_color\":{\"value\":\"#fc4f30\"},\"line_color\":{\"value\":\"#fc4f30\"},\"size\":{\"value\":5.477225575051661},\"x\":{\"field\":\"principal component 1\"},\"y\":{\"field\":\"principal component 2\"}},\"id\":\"1613\",\"type\":\"Scatter\"},{\"attributes\":{\"angle\":{\"value\":0.0},\"fill_alpha\":{\"value\":1.0},\"fill_color\":{\"value\":\"#fc4f30\"},\"hatch_alpha\":{\"value\":1.0},\"hatch_color\":{\"value\":\"#fc4f30\"},\"hatch_scale\":{\"value\":12.0},\"hatch_weight\":{\"value\":1.0},\"line_alpha\":{\"value\":1.0},\"line_cap\":{\"value\":\"butt\"},\"line_color\":{\"value\":\"#fc4f30\"},\"line_dash\":{\"value\":[]},\"line_dash_offset\":{\"value\":0},\"line_join\":{\"value\":\"bevel\"},\"line_width\":{\"value\":1},\"marker\":{\"value\":\"circle\"},\"size\":{\"value\":5.477225575051661},\"x\":{\"field\":\"principal component 1\"},\"y\":{\"field\":\"principal component 2\"}},\"id\":\"1631\",\"type\":\"Scatter\"},{\"attributes\":{\"fill_alpha\":{\"value\":0.2},\"fill_color\":{\"value\":\"#fc4f30\"},\"hatch_alpha\":{\"value\":0.2},\"hatch_color\":{\"value\":\"#fc4f30\"},\"line_alpha\":{\"value\":0.2},\"line_color\":{\"value\":\"#fc4f30\"},\"size\":{\"value\":5.477225575051661},\"x\":{\"field\":\"principal component 1\"},\"y\":{\"field\":\"principal component 2\"}},\"id\":\"1615\",\"type\":\"Scatter\"},{\"attributes\":{},\"id\":\"1585\",\"type\":\"AllLabels\"},{\"attributes\":{},\"id\":\"1584\",\"type\":\"BasicTickFormatter\"},{\"attributes\":{\"tools\":[{\"id\":\"1550\"},{\"id\":\"1570\"},{\"id\":\"1571\"},{\"id\":\"1572\"},{\"id\":\"1573\"},{\"id\":\"1574\"}]},\"id\":\"1576\",\"type\":\"Toolbar\"}],\"root_ids\":[\"1546\"]},\"title\":\"Bokeh Application\",\"version\":\"2.4.2\"}};\n",
       "    var render_items = [{\"docid\":\"df65bf48-0cc5-4a66-8dc6-a2de6fbd91b2\",\"root_ids\":[\"1546\"],\"roots\":{\"1546\":\"665a6f9f-e43f-41d0-9ec2-3511782d6e1f\"}}];\n",
       "    root.Bokeh.embed.embed_items_notebook(docs_json, render_items);\n",
       "  }\n",
       "  if (root.Bokeh !== undefined && root.Bokeh.Panel !== undefined) {\n",
       "    embed_document(root);\n",
       "  } else {\n",
       "    var attempts = 0;\n",
       "    var timer = setInterval(function(root) {\n",
       "      if (root.Bokeh !== undefined && root.Bokeh.Panel !== undefined) {\n",
       "        clearInterval(timer);\n",
       "        embed_document(root);\n",
       "      } else if (document.readyState == \"complete\") {\n",
       "        attempts++;\n",
       "        if (attempts > 200) {\n",
       "          clearInterval(timer);\n",
       "          console.log(\"Bokeh: ERROR: Unable to run BokehJS code because BokehJS library is missing\");\n",
       "        }\n",
       "      }\n",
       "    }, 25, root)\n",
       "  }\n",
       "})(window);</script>"
      ],
      "text/plain": [
       ":NdOverlay   [class]\n",
       "   :Scatter   [principal component 1]   (principal component 2,class)"
      ]
     },
     "execution_count": 21,
     "metadata": {
      "application/vnd.holoviews_exec.v0+json": {
       "id": "1546"
      }
     },
     "output_type": "execute_result"
    }
   ],
   "source": [
    "df_iris_pca.hvplot.scatter(\n",
    "    x=\"principal component 1\",\n",
    "    y=\"principal component 2\",\n",
    "    hover_cols=[\"class\"],\n",
    "    by=\"class\",\n",
    ")"
   ]
  },
  {
   "cell_type": "code",
   "execution_count": null,
   "id": "c6fdb6a4",
   "metadata": {},
   "outputs": [],
   "source": []
  },
  {
   "cell_type": "code",
   "execution_count": null,
   "id": "a73aac7b",
   "metadata": {},
   "outputs": [],
   "source": []
  }
 ],
 "metadata": {
  "kernelspec": {
   "display_name": "mlenv",
   "language": "python",
   "name": "mlenv"
  },
  "language_info": {
   "codemirror_mode": {
    "name": "ipython",
    "version": 3
   },
   "file_extension": ".py",
   "mimetype": "text/x-python",
   "name": "python",
   "nbconvert_exporter": "python",
   "pygments_lexer": "ipython3",
   "version": "3.7.13"
  }
 },
 "nbformat": 4,
 "nbformat_minor": 5
}
